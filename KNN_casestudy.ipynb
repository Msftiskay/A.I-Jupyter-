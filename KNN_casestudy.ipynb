{
  "nbformat": 4,
  "nbformat_minor": 0,
  "metadata": {
    "colab": {
      "provenance": [],
      "authorship_tag": "ABX9TyNXystthrAndEdu5P4vUYJU",
      "include_colab_link": true
    },
    "kernelspec": {
      "name": "python3",
      "display_name": "Python 3"
    },
    "language_info": {
      "name": "python"
    }
  },
  "cells": [
    {
      "cell_type": "markdown",
      "metadata": {
        "id": "view-in-github",
        "colab_type": "text"
      },
      "source": [
        "<a href=\"https://colab.research.google.com/github/Msftiskay/KNN-Algorithm/blob/main/KNN_casestudy.ipynb\" target=\"_parent\"><img src=\"https://colab.research.google.com/assets/colab-badge.svg\" alt=\"Open In Colab\"/></a>"
      ]
    },
    {
      "cell_type": "code",
      "execution_count": 1,
      "metadata": {
        "id": "Yjr-_C6El0r6"
      },
      "outputs": [],
      "source": [
        "from sklearn.datasets import load_digits"
      ]
    },
    {
      "cell_type": "code",
      "source": [
        "digits =load_digits()"
      ],
      "metadata": {
        "id": "kTBQ4Wcknpbc"
      },
      "execution_count": 2,
      "outputs": []
    },
    {
      "cell_type": "code",
      "source": [
        "type(digits)"
      ],
      "metadata": {
        "colab": {
          "base_uri": "https://localhost:8080/",
          "height": 187
        },
        "id": "O5XGtetXoSfw",
        "outputId": "08898a0d-78bc-49e7-8e69-0d85f968591d"
      },
      "execution_count": 4,
      "outputs": [
        {
          "output_type": "execute_result",
          "data": {
            "text/plain": [
              "sklearn.utils._bunch.Bunch"
            ],
            "text/html": [
              "<div style=\"max-width:800px; border: 1px solid var(--colab-border-color);\"><style>\n",
              "      pre.function-repr-contents {\n",
              "        overflow-x: auto;\n",
              "        padding: 8px 12px;\n",
              "        max-height: 500px;\n",
              "      }\n",
              "\n",
              "      pre.function-repr-contents.function-repr-contents-collapsed {\n",
              "        cursor: pointer;\n",
              "        max-height: 100px;\n",
              "      }\n",
              "    </style>\n",
              "    <pre style=\"white-space: initial; background:\n",
              "         var(--colab-secondary-surface-color); padding: 8px 12px;\n",
              "         border-bottom: 1px solid var(--colab-border-color);\"><b>sklearn.utils._bunch.Bunch</b><br/>def __init__(**kwargs)</pre><pre class=\"function-repr-contents function-repr-contents-collapsed\" style=\"\"><a class=\"filepath\" style=\"display:none\" href=\"#\">/usr/local/lib/python3.10/dist-packages/sklearn/utils/_bunch.py</a>Container object exposing keys as attributes.\n",
              "\n",
              "Bunch objects are sometimes used as an output for functions and methods.\n",
              "They extend dictionaries by enabling values to be accessed by key,\n",
              "`bunch[&quot;value_key&quot;]`, or by an attribute, `bunch.value_key`.\n",
              "\n",
              "Examples\n",
              "--------\n",
              "&gt;&gt;&gt; from sklearn.utils import Bunch\n",
              "&gt;&gt;&gt; b = Bunch(a=1, b=2)\n",
              "&gt;&gt;&gt; b[&#x27;b&#x27;]\n",
              "2\n",
              "&gt;&gt;&gt; b.b\n",
              "2\n",
              "&gt;&gt;&gt; b.a = 3\n",
              "&gt;&gt;&gt; b[&#x27;a&#x27;]\n",
              "3\n",
              "&gt;&gt;&gt; b.c = 6\n",
              "&gt;&gt;&gt; b[&#x27;c&#x27;]\n",
              "6</pre>\n",
              "      <script>\n",
              "      if (google.colab.kernel.accessAllowed && google.colab.files && google.colab.files.view) {\n",
              "        for (const element of document.querySelectorAll('.filepath')) {\n",
              "          element.style.display = 'block'\n",
              "          element.onclick = (event) => {\n",
              "            event.preventDefault();\n",
              "            event.stopPropagation();\n",
              "            google.colab.files.view(element.textContent, 1);\n",
              "          };\n",
              "        }\n",
              "      }\n",
              "      for (const element of document.querySelectorAll('.function-repr-contents')) {\n",
              "        element.onclick = (event) => {\n",
              "          event.preventDefault();\n",
              "          event.stopPropagation();\n",
              "          element.classList.toggle('function-repr-contents-collapsed');\n",
              "        };\n",
              "      }\n",
              "      </script>\n",
              "      </div>"
            ]
          },
          "metadata": {},
          "execution_count": 4
        }
      ]
    },
    {
      "cell_type": "code",
      "source": [
        "print(digits.DESCR)"
      ],
      "metadata": {
        "colab": {
          "base_uri": "https://localhost:8080/"
        },
        "id": "cA9JJDKMogJq",
        "outputId": "6a073989-2aae-433b-feee-0dbe19fd4ffe"
      },
      "execution_count": 5,
      "outputs": [
        {
          "output_type": "stream",
          "name": "stdout",
          "text": [
            ".. _digits_dataset:\n",
            "\n",
            "Optical recognition of handwritten digits dataset\n",
            "--------------------------------------------------\n",
            "\n",
            "**Data Set Characteristics:**\n",
            "\n",
            "    :Number of Instances: 1797\n",
            "    :Number of Attributes: 64\n",
            "    :Attribute Information: 8x8 image of integer pixels in the range 0..16.\n",
            "    :Missing Attribute Values: None\n",
            "    :Creator: E. Alpaydin (alpaydin '@' boun.edu.tr)\n",
            "    :Date: July; 1998\n",
            "\n",
            "This is a copy of the test set of the UCI ML hand-written digits datasets\n",
            "https://archive.ics.uci.edu/ml/datasets/Optical+Recognition+of+Handwritten+Digits\n",
            "\n",
            "The data set contains images of hand-written digits: 10 classes where\n",
            "each class refers to a digit.\n",
            "\n",
            "Preprocessing programs made available by NIST were used to extract\n",
            "normalized bitmaps of handwritten digits from a preprinted form. From a\n",
            "total of 43 people, 30 contributed to the training set and different 13\n",
            "to the test set. 32x32 bitmaps are divided into nonoverlapping blocks of\n",
            "4x4 and the number of on pixels are counted in each block. This generates\n",
            "an input matrix of 8x8 where each element is an integer in the range\n",
            "0..16. This reduces dimensionality and gives invariance to small\n",
            "distortions.\n",
            "\n",
            "For info on NIST preprocessing routines, see M. D. Garris, J. L. Blue, G.\n",
            "T. Candela, D. L. Dimmick, J. Geist, P. J. Grother, S. A. Janet, and C.\n",
            "L. Wilson, NIST Form-Based Handprint Recognition System, NISTIR 5469,\n",
            "1994.\n",
            "\n",
            ".. topic:: References\n",
            "\n",
            "  - C. Kaynak (1995) Methods of Combining Multiple Classifiers and Their\n",
            "    Applications to Handwritten Digit Recognition, MSc Thesis, Institute of\n",
            "    Graduate Studies in Science and Engineering, Bogazici University.\n",
            "  - E. Alpaydin, C. Kaynak (1998) Cascading Classifiers, Kybernetika.\n",
            "  - Ken Tang and Ponnuthurai N. Suganthan and Xi Yao and A. Kai Qin.\n",
            "    Linear dimensionalityreduction using relevance weighted LDA. School of\n",
            "    Electrical and Electronic Engineering Nanyang Technological University.\n",
            "    2005.\n",
            "  - Claudio Gentile. A New Approximate Maximal Margin Classification\n",
            "    Algorithm. NIPS. 2000.\n",
            "\n"
          ]
        }
      ]
    },
    {
      "cell_type": "code",
      "source": [
        "digits.target[9]"
      ],
      "metadata": {
        "colab": {
          "base_uri": "https://localhost:8080/"
        },
        "id": "Sn0q87xwonar",
        "outputId": "f9b9287b-43c2-4af8-e61b-5d50bcde43c7"
      },
      "execution_count": 6,
      "outputs": [
        {
          "output_type": "execute_result",
          "data": {
            "text/plain": [
              "9"
            ]
          },
          "metadata": {},
          "execution_count": 6
        }
      ]
    },
    {
      "cell_type": "code",
      "source": [
        "digits.target[::4]"
      ],
      "metadata": {
        "colab": {
          "base_uri": "https://localhost:8080/"
        },
        "id": "0Q4dlodj8HvZ",
        "outputId": "1fdb1c4b-9a82-4aa7-91f7-70d9e280cc5b"
      },
      "execution_count": 7,
      "outputs": [
        {
          "output_type": "execute_result",
          "data": {
            "text/plain": [
              "array([0, 4, 8, 2, 6, 0, 4, 8, 5, 0, 8, 7, 0, 7, 1, 3, 4, 4, 0, 8, 1, 2,\n",
              "       6, 9, 8, 4, 6, 7, 7, 2, 5, 4, 9, 2, 6, 0, 4, 8, 2, 6, 0, 6, 8, 1,\n",
              "       5, 2, 2, 6, 3, 6, 1, 5, 0, 6, 7, 9, 8, 4, 6, 7, 7, 2, 8, 0, 0, 4,\n",
              "       8, 2, 6, 0, 4, 8, 5, 0, 8, 7, 0, 7, 1, 3, 4, 4, 0, 8, 1, 2, 6, 9,\n",
              "       8, 4, 6, 7, 7, 2, 5, 4, 9, 2, 6, 0, 4, 8, 2, 6, 0, 6, 8, 1, 5, 2,\n",
              "       2, 6, 3, 6, 1, 5, 0, 6, 7, 1, 7, 3, 5, 6, 4, 8, 7, 8, 0, 0, 4, 8,\n",
              "       2, 6, 0, 4, 8, 5, 0, 8, 7, 0, 7, 1, 3, 4, 4, 0, 8, 1, 2, 6, 9, 8,\n",
              "       4, 6, 7, 7, 2, 5, 4, 9, 2, 6, 0, 4, 8, 2, 6, 0, 6, 8, 1, 5, 2, 2,\n",
              "       6, 3, 6, 1, 5, 0, 6, 7, 1, 7, 3, 5, 6, 4, 8, 7, 8, 0, 0, 4, 8, 2,\n",
              "       6, 0, 4, 8, 5, 0, 8, 7, 0, 7, 1, 3, 4, 4, 0, 8, 1, 2, 6, 9, 8, 4,\n",
              "       6, 7, 7, 2, 5, 4, 9, 3, 7, 1, 5, 9, 3, 7, 9, 5, 9, 7, 1, 2, 6, 3,\n",
              "       6, 1, 5, 0, 6, 4, 3, 6, 1, 3, 1, 4, 2, 9, 9, 8, 3, 7, 1, 5, 9, 3,\n",
              "       7, 9, 5, 9, 7, 1, 8, 2, 7, 6, 9, 9, 2, 7, 1, 3, 1, 4, 0, 9, 5, 2,\n",
              "       5, 4, 9, 8, 3, 7, 1, 5, 9, 3, 7, 9, 5, 9, 7, 1, 2, 0, 3, 3, 6, 5,\n",
              "       2, 0, 3, 4, 3, 6, 1, 3, 1, 4, 2, 9, 8, 8, 1, 5, 9, 3, 7, 1, 5, 9,\n",
              "       5, 9, 4, 3, 0, 8, 2, 7, 6, 9, 9, 2, 7, 1, 3, 1, 4, 0, 9, 5, 2, 5,\n",
              "       4, 9, 1, 5, 9, 3, 7, 1, 5, 9, 5, 9, 4, 3, 0, 8, 2, 7, 6, 9, 9, 2,\n",
              "       7, 1, 3, 1, 4, 0, 9, 5, 2, 5, 4, 9, 8, 3, 7, 1, 5, 1, 5, 9, 5, 9,\n",
              "       4, 3, 0, 8, 2, 7, 6, 9, 9, 0, 3, 4, 3, 6, 1, 3, 1, 4, 5, 4, 8, 1,\n",
              "       5, 9, 3, 7, 1, 5, 9, 5, 9, 4, 3, 0, 8, 2, 7, 6, 9, 9, 2, 7, 1, 3,\n",
              "       1, 4, 0, 9, 5, 2, 5, 4, 9, 8])"
            ]
          },
          "metadata": {},
          "execution_count": 7
        }
      ]
    },
    {
      "cell_type": "code",
      "source": [
        "digits.data[0]"
      ],
      "metadata": {
        "colab": {
          "base_uri": "https://localhost:8080/"
        },
        "id": "mScMTSLA8iOR",
        "outputId": "09ae86d7-61d8-4adf-d911-29f4a9ab8419"
      },
      "execution_count": 8,
      "outputs": [
        {
          "output_type": "execute_result",
          "data": {
            "text/plain": [
              "array([ 0.,  0.,  5., 13.,  9.,  1.,  0.,  0.,  0.,  0., 13., 15., 10.,\n",
              "       15.,  5.,  0.,  0.,  3., 15.,  2.,  0., 11.,  8.,  0.,  0.,  4.,\n",
              "       12.,  0.,  0.,  8.,  8.,  0.,  0.,  5.,  8.,  0.,  0.,  9.,  8.,\n",
              "        0.,  0.,  4., 11.,  0.,  1., 12.,  7.,  0.,  0.,  2., 14.,  5.,\n",
              "       10., 12.,  0.,  0.,  0.,  0.,  6., 13., 10.,  0.,  0.,  0.])"
            ]
          },
          "metadata": {},
          "execution_count": 8
        }
      ]
    },
    {
      "cell_type": "code",
      "source": [
        "digits.images[9]"
      ],
      "metadata": {
        "colab": {
          "base_uri": "https://localhost:8080/"
        },
        "id": "TUuG1bLI8ow5",
        "outputId": "eab9e00e-cca1-47a2-8119-5ac2747086a5"
      },
      "execution_count": 9,
      "outputs": [
        {
          "output_type": "execute_result",
          "data": {
            "text/plain": [
              "array([[ 0.,  0., 11., 12.,  0.,  0.,  0.,  0.],\n",
              "       [ 0.,  2., 16., 16., 16., 13.,  0.,  0.],\n",
              "       [ 0.,  3., 16., 12., 10., 14.,  0.,  0.],\n",
              "       [ 0.,  1., 16.,  1., 12., 15.,  0.,  0.],\n",
              "       [ 0.,  0., 13., 16.,  9., 15.,  2.,  0.],\n",
              "       [ 0.,  0.,  0.,  3.,  0.,  9., 11.,  0.],\n",
              "       [ 0.,  0.,  0.,  0.,  9., 15.,  4.,  0.],\n",
              "       [ 0.,  0.,  9., 12., 13.,  3.,  0.,  0.]])"
            ]
          },
          "metadata": {},
          "execution_count": 9
        }
      ]
    },
    {
      "cell_type": "code",
      "source": [
        "import matplotlib.pyplot as plt\n",
        "\n",
        "figure, axes =plt.subplots(nrows=4, ncols=6, figsize=(6,4))\n",
        "\n",
        "for item in zip (axes.ravel(), digits.images, digits.target):\n",
        "    axes, image, target = item\n",
        "    axes.imshow(image, cmap=plt.cm.gray_r)\n",
        "    axes.set_xticks([])\n",
        "    axes.set_yticks([])\n",
        "    axes.set_title(target)\n",
        "plt.tight_layout()"
      ],
      "metadata": {
        "colab": {
          "base_uri": "https://localhost:8080/",
          "height": 407
        },
        "id": "3Iok2H-u8xLy",
        "outputId": "f6b6ac19-26b6-4276-b772-21e4c2f0a2fe"
      },
      "execution_count": 10,
      "outputs": [
        {
          "output_type": "display_data",
          "data": {
            "text/plain": [
              "<Figure size 600x400 with 24 Axes>"
            ],
            "image/png": "[encoded data removed]"
          },
          "metadata": {}
        }
      ]
    },
    {
      "cell_type": "code",
      "source": [
        "from sklearn.model_selection import train_test_split"
      ],
      "metadata": {
        "id": "zDmymmTx9bvx"
      },
      "execution_count": 11,
      "outputs": []
    },
    {
      "cell_type": "code",
      "source": [
        "X_train, X_test, y_train, y_test = train_test_split(digits.data, digits.target, random_state=11)"
      ],
      "metadata": {
        "id": "DsjcN8s5-cc5"
      },
      "execution_count": 12,
      "outputs": []
    },
    {
      "cell_type": "code",
      "source": [
        "digits.data.shape"
      ],
      "metadata": {
        "colab": {
          "base_uri": "https://localhost:8080/"
        },
        "id": "kIjZMiGdRZ94",
        "outputId": "386044b4-228f-4259-c901-71c8eefa5335"
      },
      "execution_count": 13,
      "outputs": [
        {
          "output_type": "execute_result",
          "data": {
            "text/plain": [
              "(1797, 64)"
            ]
          },
          "metadata": {},
          "execution_count": 13
        }
      ]
    },
    {
      "cell_type": "code",
      "source": [
        "X_train.shape"
      ],
      "metadata": {
        "colab": {
          "base_uri": "https://localhost:8080/"
        },
        "id": "N6DlHcpHReCA",
        "outputId": "45280255-cc7e-441e-8021-b4760177ee64"
      },
      "execution_count": 14,
      "outputs": [
        {
          "output_type": "execute_result",
          "data": {
            "text/plain": [
              "(1347, 64)"
            ]
          },
          "metadata": {},
          "execution_count": 14
        }
      ]
    },
    {
      "cell_type": "code",
      "source": [
        "y_train.shape"
      ],
      "metadata": {
        "colab": {
          "base_uri": "https://localhost:8080/"
        },
        "id": "YeEWls3rRhrk",
        "outputId": "9ae1f40d-9dcd-4d8f-9eea-f6a96b4052bf"
      },
      "execution_count": 15,
      "outputs": [
        {
          "output_type": "execute_result",
          "data": {
            "text/plain": [
              "(1347,)"
            ]
          },
          "metadata": {},
          "execution_count": 15
        }
      ]
    },
    {
      "cell_type": "code",
      "source": [
        "X_test.shape"
      ],
      "metadata": {
        "colab": {
          "base_uri": "https://localhost:8080/"
        },
        "id": "dguBlW-0Ro90",
        "outputId": "05630bfe-7f87-42f9-b30d-102678e7cb49"
      },
      "execution_count": 16,
      "outputs": [
        {
          "output_type": "execute_result",
          "data": {
            "text/plain": [
              "(450, 64)"
            ]
          },
          "metadata": {},
          "execution_count": 16
        }
      ]
    },
    {
      "cell_type": "code",
      "source": [
        "1347/1797*100"
      ],
      "metadata": {
        "colab": {
          "base_uri": "https://localhost:8080/"
        },
        "id": "Kr4MVXCiRu8K",
        "outputId": "28753c8c-47ef-4802-b9d6-84fd9989eb20"
      },
      "execution_count": 17,
      "outputs": [
        {
          "output_type": "execute_result",
          "data": {
            "text/plain": [
              "74.95826377295492"
            ]
          },
          "metadata": {},
          "execution_count": 17
        }
      ]
    },
    {
      "cell_type": "code",
      "source": [
        "#creating the model"
      ],
      "metadata": {
        "id": "7zjG14saRz-_"
      },
      "execution_count": 18,
      "outputs": []
    },
    {
      "cell_type": "code",
      "source": [
        "from sklearn.neighbors import KNeighborsClassifier"
      ],
      "metadata": {
        "id": "-KuR9so-SDta"
      },
      "execution_count": 19,
      "outputs": []
    },
    {
      "cell_type": "code",
      "source": [
        "knn=KNeighborsClassifier()"
      ],
      "metadata": {
        "id": "xbsvAPh9SYQH"
      },
      "execution_count": 20,
      "outputs": []
    },
    {
      "cell_type": "code",
      "source": [
        "knn.fit(X=X_train, y=y_train)"
      ],
      "metadata": {
        "colab": {
          "base_uri": "https://localhost:8080/",
          "height": 75
        },
        "id": "u5HExYFRSiMk",
        "outputId": "7c347156-35cf-4fd3-eb30-1a0d22200cfd"
      },
      "execution_count": 21,
      "outputs": [
        {
          "output_type": "execute_result",
          "data": {
            "text/plain": [
              "KNeighborsClassifier()"
            ],
            "text/html": [
              "<style>#sk-container-id-1 {color: black;background-color: white;}#sk-container-id-1 pre{padding: 0;}#sk-container-id-1 div.sk-toggleable {background-color: white;}#sk-container-id-1 label.sk-toggleable__label {cursor: pointer;display: block;width: 100%;margin-bottom: 0;padding: 0.3em;box-sizing: border-box;text-align: center;}#sk-container-id-1 label.sk-toggleable__label-arrow:before {content: \"▸\";float: left;margin-right: 0.25em;color: #696969;}#sk-container-id-1 label.sk-toggleable__label-arrow:hover:before {color: black;}#sk-container-id-1 div.sk-estimator:hover label.sk-toggleable__label-arrow:before {color: black;}#sk-container-id-1 div.sk-toggleable__content {max-height: 0;max-width: 0;overflow: hidden;text-align: left;background-color: #f0f8ff;}#sk-container-id-1 div.sk-toggleable__content pre {margin: 0.2em;color: black;border-radius: 0.25em;background-color: #f0f8ff;}#sk-container-id-1 input.sk-toggleable__control:checked~div.sk-toggleable__content {max-height: 200px;max-width: 100%;overflow: auto;}#sk-container-id-1 input.sk-toggleable__control:checked~label.sk-toggleable__label-arrow:before {content: \"▾\";}#sk-container-id-1 div.sk-estimator input.sk-toggleable__control:checked~label.sk-toggleable__label {background-color: #d4ebff;}#sk-container-id-1 div.sk-label input.sk-toggleable__control:checked~label.sk-toggleable__label {background-color: #d4ebff;}#sk-container-id-1 input.sk-hidden--visually {border: 0;clip: rect(1px 1px 1px 1px);clip: rect(1px, 1px, 1px, 1px);height: 1px;margin: -1px;overflow: hidden;padding: 0;position: absolute;width: 1px;}#sk-container-id-1 div.sk-estimator {font-family: monospace;background-color: #f0f8ff;border: 1px dotted black;border-radius: 0.25em;box-sizing: border-box;margin-bottom: 0.5em;}#sk-container-id-1 div.sk-estimator:hover {background-color: #d4ebff;}#sk-container-id-1 div.sk-parallel-item::after {content: \"\";width: 100%;border-bottom: 1px solid gray;flex-grow: 1;}#sk-container-id-1 div.sk-label:hover label.sk-toggleable__label {background-color: #d4ebff;}#sk-container-id-1 div.sk-serial::before {content: \"\";position: absolute;border-left: 1px solid gray;box-sizing: border-box;top: 0;bottom: 0;left: 50%;z-index: 0;}#sk-container-id-1 div.sk-serial {display: flex;flex-direction: column;align-items: center;background-color: white;padding-right: 0.2em;padding-left: 0.2em;position: relative;}#sk-container-id-1 div.sk-item {position: relative;z-index: 1;}#sk-container-id-1 div.sk-parallel {display: flex;align-items: stretch;justify-content: center;background-color: white;position: relative;}#sk-container-id-1 div.sk-item::before, #sk-container-id-1 div.sk-parallel-item::before {content: \"\";position: absolute;border-left: 1px solid gray;box-sizing: border-box;top: 0;bottom: 0;left: 50%;z-index: -1;}#sk-container-id-1 div.sk-parallel-item {display: flex;flex-direction: column;z-index: 1;position: relative;background-color: white;}#sk-container-id-1 div.sk-parallel-item:first-child::after {align-self: flex-end;width: 50%;}#sk-container-id-1 div.sk-parallel-item:last-child::after {align-self: flex-start;width: 50%;}#sk-container-id-1 div.sk-parallel-item:only-child::after {width: 0;}#sk-container-id-1 div.sk-dashed-wrapped {border: 1px dashed gray;margin: 0 0.4em 0.5em 0.4em;box-sizing: border-box;padding-bottom: 0.4em;background-color: white;}#sk-container-id-1 div.sk-label label {font-family: monospace;font-weight: bold;display: inline-block;line-height: 1.2em;}#sk-container-id-1 div.sk-label-container {text-align: center;}#sk-container-id-1 div.sk-container {/* jupyter's `normalize.less` sets `[hidden] { display: none; }` but bootstrap.min.css set `[hidden] { display: none !important; }` so we also need the `!important` here to be able to override the default hidden behavior on the sphinx rendered scikit-learn.org. See: https://github.com/scikit-learn/scikit-learn/issues/21755 */display: inline-block !important;position: relative;}#sk-container-id-1 div.sk-text-repr-fallback {display: none;}</style><div id=\"sk-container-id-1\" class=\"sk-top-container\"><div class=\"sk-text-repr-fallback\"><pre>KNeighborsClassifier()</pre><b>In a Jupyter environment, please rerun this cell to show the HTML representation or trust the notebook. <br />On GitHub, the HTML representation is unable to render, please try loading this page with nbviewer.org.</b></div><div class=\"sk-container\" hidden><div class=\"sk-item\"><div class=\"sk-estimator sk-toggleable\"><input class=\"sk-toggleable__control sk-hidden--visually\" id=\"sk-estimator-id-1\" type=\"checkbox\" checked><label for=\"sk-estimator-id-1\" class=\"sk-toggleable__label sk-toggleable__label-arrow\">KNeighborsClassifier</label><div class=\"sk-toggleable__content\"><pre>KNeighborsClassifier()</pre></div></div></div></div></div>"
            ]
          },
          "metadata": {},
          "execution_count": 21
        }
      ]
    },
    {
      "cell_type": "code",
      "source": [
        "#prediction"
      ],
      "metadata": {
        "id": "CYmXWIVrSry9"
      },
      "execution_count": 22,
      "outputs": []
    },
    {
      "cell_type": "code",
      "source": [
        "predicated = knn.predict(X=X_test)"
      ],
      "metadata": {
        "id": "hDp4UpS0Stq_"
      },
      "execution_count": 23,
      "outputs": []
    },
    {
      "cell_type": "code",
      "source": [
        "expected = y_test"
      ],
      "metadata": {
        "id": "AJzpzbUVS67Z"
      },
      "execution_count": 24,
      "outputs": []
    },
    {
      "cell_type": "code",
      "source": [
        "expected"
      ],
      "metadata": {
        "colab": {
          "base_uri": "https://localhost:8080/"
        },
        "id": "AHKtiwLRS-BN",
        "outputId": "44aa97a0-df6b-4256-ccf4-685fee4569a1"
      },
      "execution_count": 25,
      "outputs": [
        {
          "output_type": "execute_result",
          "data": {
            "text/plain": [
              "array([0, 4, 9, 9, 3, 1, 4, 1, 5, 0, 4, 9, 4, 1, 5, 3, 3, 8, 3, 6, 9, 6,\n",
              "       0, 6, 9, 3, 2, 1, 8, 1, 7, 0, 4, 4, 1, 5, 3, 0, 5, 7, 3, 9, 6, 5,\n",
              "       5, 8, 8, 1, 1, 2, 4, 9, 5, 6, 9, 2, 1, 8, 5, 3, 2, 7, 9, 6, 3, 7,\n",
              "       4, 2, 0, 1, 0, 2, 7, 3, 5, 1, 8, 7, 7, 2, 0, 6, 6, 4, 6, 8, 3, 7,\n",
              "       4, 1, 9, 3, 5, 4, 0, 3, 1, 3, 3, 1, 2, 8, 5, 0, 1, 7, 2, 1, 3, 3,\n",
              "       7, 4, 0, 2, 9, 0, 4, 2, 5, 6, 1, 2, 6, 1, 8, 6, 0, 2, 6, 2, 6, 1,\n",
              "       9, 4, 8, 0, 4, 0, 2, 3, 4, 4, 1, 7, 9, 7, 2, 0, 3, 7, 8, 8, 3, 5,\n",
              "       4, 3, 5, 4, 9, 1, 3, 8, 8, 1, 1, 6, 7, 3, 3, 9, 9, 0, 6, 1, 0, 1,\n",
              "       0, 7, 6, 1, 5, 9, 0, 2, 2, 8, 6, 8, 3, 2, 9, 2, 9, 3, 0, 1, 2, 7,\n",
              "       4, 9, 9, 4, 9, 3, 2, 7, 2, 6, 9, 8, 0, 2, 6, 3, 4, 2, 7, 6, 6, 7,\n",
              "       7, 6, 0, 7, 6, 6, 0, 7, 1, 4, 4, 1, 0, 9, 4, 0, 4, 2, 4, 6, 5, 3,\n",
              "       8, 4, 1, 3, 9, 8, 3, 8, 9, 4, 2, 0, 4, 9, 2, 3, 5, 0, 8, 2, 5, 4,\n",
              "       7, 5, 5, 1, 0, 2, 9, 0, 7, 7, 6, 2, 1, 5, 4, 1, 0, 5, 1, 6, 5, 4,\n",
              "       8, 7, 5, 9, 0, 2, 2, 3, 4, 4, 8, 8, 8, 5, 3, 0, 7, 0, 3, 0, 7, 9,\n",
              "       8, 8, 3, 3, 9, 8, 2, 8, 4, 7, 7, 9, 1, 3, 5, 8, 8, 2, 2, 9, 4, 6,\n",
              "       8, 0, 6, 1, 2, 7, 8, 8, 9, 7, 9, 0, 3, 7, 2, 3, 0, 7, 3, 9, 9, 4,\n",
              "       2, 1, 7, 4, 4, 5, 7, 4, 7, 4, 4, 5, 2, 4, 2, 0, 6, 3, 6, 4, 2, 7,\n",
              "       2, 2, 8, 2, 5, 8, 1, 0, 6, 6, 1, 5, 6, 8, 6, 7, 0, 1, 1, 9, 7, 2,\n",
              "       7, 8, 2, 4, 8, 9, 8, 4, 4, 2, 5, 5, 5, 2, 6, 6, 9, 6, 9, 8, 2, 1,\n",
              "       2, 3, 8, 7, 5, 9, 6, 6, 0, 0, 4, 7, 7, 7, 8, 2, 5, 5, 5, 8, 4, 6,\n",
              "       0, 5, 9, 1, 3, 1, 2, 2, 1, 0])"
            ]
          },
          "metadata": {},
          "execution_count": 25
        }
      ]
    },
    {
      "cell_type": "code",
      "source": [
        "predicated"
      ],
      "metadata": {
        "colab": {
          "base_uri": "https://localhost:8080/"
        },
        "id": "-LvSkkQMTAhd",
        "outputId": "2a67e2c3-6a9e-4513-c944-aa29639ed21b"
      },
      "execution_count": 26,
      "outputs": [
        {
          "output_type": "execute_result",
          "data": {
            "text/plain": [
              "array([0, 4, 9, 9, 3, 1, 4, 1, 5, 0, 4, 9, 4, 1, 5, 3, 3, 8, 5, 6, 9, 6,\n",
              "       0, 6, 9, 3, 2, 1, 8, 1, 7, 0, 4, 4, 1, 5, 3, 0, 5, 7, 3, 9, 6, 5,\n",
              "       5, 8, 8, 1, 1, 2, 4, 8, 5, 6, 9, 2, 1, 8, 5, 3, 2, 7, 9, 6, 3, 7,\n",
              "       4, 2, 0, 1, 0, 2, 7, 3, 5, 1, 8, 7, 7, 2, 0, 6, 6, 4, 6, 8, 3, 7,\n",
              "       4, 1, 9, 3, 5, 4, 0, 3, 1, 3, 3, 1, 2, 8, 5, 0, 1, 7, 2, 1, 3, 3,\n",
              "       7, 4, 0, 2, 9, 0, 4, 2, 5, 6, 1, 2, 6, 1, 8, 6, 0, 2, 6, 2, 6, 1,\n",
              "       9, 4, 8, 0, 4, 0, 2, 3, 4, 4, 1, 7, 4, 7, 2, 0, 3, 7, 8, 8, 7, 5,\n",
              "       4, 3, 5, 4, 9, 1, 3, 8, 8, 1, 1, 6, 7, 3, 3, 9, 9, 0, 6, 1, 0, 1,\n",
              "       0, 7, 6, 1, 5, 9, 0, 2, 2, 8, 6, 8, 3, 2, 9, 2, 9, 3, 0, 1, 2, 7,\n",
              "       4, 9, 9, 7, 9, 3, 2, 7, 2, 6, 9, 8, 0, 2, 6, 3, 4, 2, 7, 6, 6, 7,\n",
              "       7, 6, 0, 7, 6, 6, 0, 7, 1, 4, 4, 1, 0, 9, 4, 0, 4, 2, 4, 6, 5, 3,\n",
              "       8, 4, 1, 3, 9, 8, 3, 8, 9, 4, 2, 0, 4, 9, 2, 3, 5, 0, 8, 2, 5, 4,\n",
              "       7, 5, 5, 1, 0, 2, 9, 0, 7, 7, 6, 2, 1, 5, 4, 1, 0, 5, 1, 6, 5, 4,\n",
              "       8, 7, 5, 9, 0, 2, 2, 3, 4, 4, 8, 8, 2, 5, 3, 0, 7, 0, 3, 0, 7, 9,\n",
              "       8, 8, 3, 3, 9, 8, 2, 8, 4, 7, 7, 9, 1, 3, 5, 9, 8, 2, 2, 9, 4, 6,\n",
              "       8, 0, 6, 1, 2, 7, 8, 8, 9, 7, 9, 0, 3, 7, 2, 3, 0, 7, 3, 9, 9, 4,\n",
              "       2, 1, 7, 4, 4, 5, 7, 4, 7, 4, 4, 5, 2, 4, 2, 0, 6, 3, 6, 4, 2, 7,\n",
              "       2, 2, 3, 2, 5, 8, 1, 0, 6, 6, 1, 5, 6, 8, 6, 7, 0, 1, 1, 9, 7, 2,\n",
              "       7, 8, 2, 4, 8, 9, 8, 4, 4, 2, 5, 5, 5, 2, 6, 6, 9, 6, 9, 8, 2, 1,\n",
              "       2, 3, 3, 7, 5, 9, 6, 6, 0, 0, 4, 7, 7, 7, 8, 2, 5, 5, 5, 1, 4, 6,\n",
              "       0, 5, 9, 1, 3, 1, 2, 2, 1, 0])"
            ]
          },
          "metadata": {},
          "execution_count": 26
        }
      ]
    },
    {
      "cell_type": "code",
      "source": [
        "wrong=[(p,e) for (p,e) in zip(predicated, expected) if p != e]"
      ],
      "metadata": {
        "id": "t4QCyzD6TDCm"
      },
      "execution_count": 27,
      "outputs": []
    },
    {
      "cell_type": "code",
      "source": [
        "wrong"
      ],
      "metadata": {
        "colab": {
          "base_uri": "https://localhost:8080/"
        },
        "id": "3svC6w4YUm5X",
        "outputId": "0572d772-b8f4-4d5c-9b72-0b02af1d75e1"
      },
      "execution_count": 28,
      "outputs": [
        {
          "output_type": "execute_result",
          "data": {
            "text/plain": [
              "[(5, 3),\n",
              " (8, 9),\n",
              " (4, 9),\n",
              " (7, 3),\n",
              " (7, 4),\n",
              " (2, 8),\n",
              " (9, 8),\n",
              " (3, 8),\n",
              " (3, 8),\n",
              " (1, 8)]"
            ]
          },
          "metadata": {},
          "execution_count": 28
        }
      ]
    },
    {
      "cell_type": "code",
      "source": [
        "len(wrong)"
      ],
      "metadata": {
        "colab": {
          "base_uri": "https://localhost:8080/"
        },
        "id": "sSzNzLpbRhJB",
        "outputId": "806bfbd5-fd0e-4aa2-92f9-28006c5e115f"
      },
      "execution_count": 29,
      "outputs": [
        {
          "output_type": "execute_result",
          "data": {
            "text/plain": [
              "10"
            ]
          },
          "metadata": {},
          "execution_count": 29
        }
      ]
    },
    {
      "cell_type": "code",
      "source": [
        "440/450*100"
      ],
      "metadata": {
        "colab": {
          "base_uri": "https://localhost:8080/"
        },
        "id": "c0vICNarUpMd",
        "outputId": "9e0b72e0-c210-429a-8406-4cd7fab24bf9"
      },
      "execution_count": 30,
      "outputs": [
        {
          "output_type": "execute_result",
          "data": {
            "text/plain": [
              "97.77777777777777"
            ]
          },
          "metadata": {},
          "execution_count": 30
        }
      ]
    },
    {
      "cell_type": "code",
      "source": [
        "print(f'{knn.score(X_test, y_test):.2%}')"
      ],
      "metadata": {
        "colab": {
          "base_uri": "https://localhost:8080/"
        },
        "id": "5TPtxoPpUt0_",
        "outputId": "3757626a-c8d5-478a-a24e-2acdd79dd1b5"
      },
      "execution_count": 31,
      "outputs": [
        {
          "output_type": "stream",
          "name": "stdout",
          "text": [
            "97.78%\n"
          ]
        }
      ]
    },
    {
      "cell_type": "code",
      "source": [
        "from sklearn.metrics import confusion_matrix"
      ],
      "metadata": {
        "id": "UG8NTrVOU8Jm"
      },
      "execution_count": 32,
      "outputs": []
    },
    {
      "cell_type": "code",
      "source": [
        "confusion = confusion_matrix(y_true = expected, y_pred = predicated)"
      ],
      "metadata": {
        "id": "_Grhfvh_VExR"
      },
      "execution_count": 33,
      "outputs": []
    },
    {
      "cell_type": "code",
      "source": [
        "confusion"
      ],
      "metadata": {
        "colab": {
          "base_uri": "https://localhost:8080/"
        },
        "id": "wzvUXgr3VUWU",
        "outputId": "501c4634-7f90-43d0-9501-c0b5ea4cd37f"
      },
      "execution_count": 34,
      "outputs": [
        {
          "output_type": "execute_result",
          "data": {
            "text/plain": [
              "array([[45,  0,  0,  0,  0,  0,  0,  0,  0,  0],\n",
              "       [ 0, 45,  0,  0,  0,  0,  0,  0,  0,  0],\n",
              "       [ 0,  0, 54,  0,  0,  0,  0,  0,  0,  0],\n",
              "       [ 0,  0,  0, 42,  0,  1,  0,  1,  0,  0],\n",
              "       [ 0,  0,  0,  0, 49,  0,  0,  1,  0,  0],\n",
              "       [ 0,  0,  0,  0,  0, 38,  0,  0,  0,  0],\n",
              "       [ 0,  0,  0,  0,  0,  0, 42,  0,  0,  0],\n",
              "       [ 0,  0,  0,  0,  0,  0,  0, 45,  0,  0],\n",
              "       [ 0,  1,  1,  2,  0,  0,  0,  0, 39,  1],\n",
              "       [ 0,  0,  0,  0,  1,  0,  0,  0,  1, 41]])"
            ]
          },
          "metadata": {},
          "execution_count": 34
        }
      ]
    },
    {
      "cell_type": "code",
      "source": [
        "#Visualizing the confusion matrix using the heat map"
      ],
      "metadata": {
        "id": "uLagRQDkTk6o"
      },
      "execution_count": 37,
      "outputs": []
    },
    {
      "cell_type": "code",
      "source": [
        "type(confusion)"
      ],
      "metadata": {
        "colab": {
          "base_uri": "https://localhost:8080/"
        },
        "id": "cEkfOY9TTrGA",
        "outputId": "fb4c5f5c-c11c-4fb5-ba92-04d40f30881f"
      },
      "execution_count": 38,
      "outputs": [
        {
          "output_type": "execute_result",
          "data": {
            "text/plain": [
              "numpy.ndarray"
            ]
          },
          "metadata": {},
          "execution_count": 38
        }
      ]
    },
    {
      "cell_type": "code",
      "source": [
        "import pandas as pd"
      ],
      "metadata": {
        "id": "jrlylRNTTxkV"
      },
      "execution_count": 39,
      "outputs": []
    },
    {
      "cell_type": "code",
      "source": [
        "confusion_df = pd.DataFrame(confusion, index=range(10), columns=range(10))"
      ],
      "metadata": {
        "id": "h2iDzh7VT1Lp"
      },
      "execution_count": 42,
      "outputs": []
    },
    {
      "cell_type": "code",
      "source": [
        "import seaborn as sns"
      ],
      "metadata": {
        "id": "L6rvB2nKSp-O"
      },
      "execution_count": 35,
      "outputs": []
    },
    {
      "cell_type": "code",
      "source": [
        "figure=plt.figure(figsize=(7,6))\n",
        "axes=sns.heatmap(confusion_df, annot=True, cmap=plt.cm.nipy_spectral_r)"
      ],
      "metadata": {
        "colab": {
          "base_uri": "https://localhost:8080/",
          "height": 522
        },
        "id": "hHe5_XHxSsnx",
        "outputId": "eeff90c7-38f1-47a0-d87d-d73aca495f7c"
      },
      "execution_count": 43,
      "outputs": [
        {
          "output_type": "display_data",
          "data": {
            "text/plain": [
              "<Figure size 700x600 with 2 Axes>"
            ],
            "image/png": "[encoded data removed]"
          },
          "metadata": {}
        }
      ]
    }
  ]
}